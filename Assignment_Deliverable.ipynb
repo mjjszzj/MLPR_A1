{
 "cells": [
  {
   "cell_type": "markdown",
   "metadata": {},
   "source": [
    "# Machine Learning and Pattern Recognition\n",
    "## Assignment 1"
   ]
  },
  {
   "cell_type": "code",
   "execution_count": 1,
   "metadata": {
    "collapsed": true
   },
   "outputs": [],
   "source": [
    "%matplotlib inline\n",
    "import numpy as np\n",
    "import scipy.io as io\n",
    "import matplotlib.pyplot as plt\n",
    "import math\n",
    "import time\n",
    "\n",
    "def DataReshape(data, col):\n",
    "    #Data Reshape to C*21 and Shuffling\n",
    "    row = data.shape[0] // col\n",
    "    n_data = data[0:row*col, :].reshape(-1,col)\n",
    "    np.random.seed(int(time.time()))\n",
    "    np.random.shuffle(n_data)\n",
    "    return n_data\n",
    "    \n",
    "def DataSplit(data, ratio):\n",
    "    #Split the whole data into train, valid, test sets \n",
    "    train_flag = int(data.shape[0]*ratio[0])\n",
    "    valid_flag = train_flag+1\n",
    "    test_ratio = ratio[2]/(ratio[1]+ratio[2])\n",
    "    test_flag = valid_flag + int((data.shape[0]-valid_flag)*(test_ratio))\n",
    "    X_shuf_train = data[0:train_flag,0:20]\n",
    "    y_shuf_train = data[0:train_flag,20]\n",
    "    X_shuf_valid = data[valid_flag:test_flag,0:20]\n",
    "    y_shuf_valid = data[valid_flag:test_flag,20]\n",
    "    X_shuf_test = data[test_flag:,0:20]\n",
    "    y_shuf_test = data[test_flag:,20]\n",
    "    print('Check TrainSet Shape : ', X_shuf_train.shape, y_shuf_train.shape)\n",
    "    print('Check ValidSet Shape : ', X_shuf_valid.shape, y_shuf_valid.shape)\n",
    "    print('Check TestSet Shape : ', X_shuf_test.shape, y_shuf_test.shape)\n",
    "    \n",
    "    return [X_shuf_train, y_shuf_train, X_shuf_valid, y_shuf_valid, X_shuf_test, y_shuf_test]\n",
    "        \n",
    "def PolyModelFitting(dim, input_dim, input_x, input_y):\n",
    "    #Make Polynomial Model with given dimension and input data & Predict output based on this model\n",
    "    #Return weights, model and prediction\n",
    "    power_array = np.array([np.power(input_x,t) for t in range(1,dim)])\n",
    "    data = np.concatenate([np.ones(input_dim).reshape(1,-1), power_array],axis = 0).T\n",
    "    fit = np.linalg.lstsq(data, input_y)[0]\n",
    "    res = np.dot(fit.reshape(1,-1),data.T)\n",
    "    pred = np.dot(fit.reshape(1,-1), np.ones(dim))\n",
    "    return fit, res, pred\n",
    "\n",
    "def Phi(C, K):\n",
    "    phi_matrix = []\n",
    "    for i in [float(t)/20.0 for t in range(20-C,20)]:\n",
    "        feature = []\n",
    "        for j in range(K):\n",
    "            feature.append(i**j)\n",
    "        phi_matrix.append(feature)\n",
    "    return np.array(phi_matrix)\n",
    "\n",
    "def make_vv(C, K):\n",
    "    features = Phi(C,K)\n",
    "    phi_1 = np.ones(K)\n",
    "    a = np.linalg.inv(np.dot(features.T, features))\n",
    "    return  np.dot(np.dot(features, a), phi_1)\n",
    "\n",
    "def mean_squared_error(Y, X):\n",
    "    return np.sum([np.power(Y-X,2)])/Y.shape[0]\n",
    "\n",
    "def linearprediction_squared_error(Y, vector, X):\n",
    "    return np.sum([np.power(Y-vector.T.dot(X),2)])/Y.shape[0]\n",
    "\n",
    "def LinearPredictor(Y, X , C):\n",
    "    # Predict using linear predictor\n",
    "    n_X = X[:,19-C:20]\n",
    "    A = np.dot(np.linalg.inv(np.dot(n_X.T,n_X)), n_X.T)\n",
    "    pred = np.dot(A,Y)\n",
    "    return pred\n",
    "\n",
    "def Residual(Y, X, C):\n",
    "    pred = LinearPredictor(Y,X,C)\n",
    "    residual = np.dot(X[:,19-C:20],pred)-Y\n",
    "    return residual"
   ]
  },
  {
   "cell_type": "markdown",
   "metadata": {},
   "source": [
    "# Q1a"
   ]
  },
  {
   "cell_type": "code",
   "execution_count": 2,
   "metadata": {},
   "outputs": [
    {
     "name": "stdout",
     "output_type": "stream",
     "text": [
      "1. Getting Started \n",
      "\n",
      "Check data dimension :  (33713280, 1)\n"
     ]
    },
    {
     "data": {
      "image/png": "[encoded data removed]",
      "text/plain": [
       "<matplotlib.figure.Figure at 0x7f7260f7ffd0>"
      ]
     },
     "metadata": {},
     "output_type": "display_data"
    }
   ],
   "source": [
    "## 1. Getting Started\n",
    "print('1. Getting Started \\n')\n",
    "data_path = '/afs/inf.ed.ac.uk/group/teaching/mlprdata/audio/amp_data.mat'\n",
    "data = io.loadmat(data_path)['amp_data']\n",
    "print('Check data dimension : ', data.shape)\n",
    "    \n",
    "#plot histogram and linegraph\n",
    "figure, ax = plt.subplots(2)\n",
    "ax[0].plot(np.arange(data.shape[0]),data)\n",
    "ax[0].set_title('Sequence in amp_data')\n",
    "ax[1].hist(data, 50, normed=1, facecolor='g', alpha=0.75, range=[-.25, .25])\n",
    "ax[1].set_title('Histogram of the amplitudes')\n",
    "figure.subplots_adjust(hspace=0.5)\n",
    "plt.show()"
   ]
  },
  {
   "cell_type": "markdown",
   "metadata": {},
   "source": [
    "From the histogram, we note that the data seems to come from a Normal Distribution centered around zero and a relatively small standard deviation. This is good since we are not required to apply transformations (centering, scaling) to the raw data in order to start modeling. We think that maybe the data we are dealing with has been preprocessed somehow.\n",
    "Also, from the sequence plot we can note the the observations are not independent of their order in what they appear. We can observe a strong local correlation among the observations. We need to shuffle the data."
   ]
  },
  {
   "cell_type": "markdown",
   "metadata": {},
   "source": [
    "# Q1b"
   ]
  },
  {
   "cell_type": "code",
   "execution_count": 3,
   "metadata": {},
   "outputs": [
    {
     "name": "stdout",
     "output_type": "stream",
     "text": [
      "Check TrainSet Shape :  (1123775, 20) (1123775,)\n",
      "Check ValidSet Shape :  (240809, 20) (240809,)\n",
      "Check TestSet Shape :  (240809, 20) (240809,)\n"
     ]
    }
   ],
   "source": [
    "#Data Reshape, Shuffling, Split\n",
    "amp_data = DataReshape(data, 21)\n",
    "[train_X, train_y, valid_X, valid_y, test_X, test_y] = DataSplit(amp_data, [0.7, 0.15, 0.15])"
   ]
  },
  {
   "cell_type": "markdown",
   "metadata": {},
   "source": [
    "# Q2a"
   ]
  },
  {
   "cell_type": "code",
   "execution_count": 4,
   "metadata": {},
   "outputs": [
    {
     "name": "stdout",
     "output_type": "stream",
     "text": [
      "\n",
      "\n",
      "\n",
      "====================================================================================================\n",
      "2. Curve fitting on a snippet of audio\n"
     ]
    },
    {
     "data": {
      "image/png": "[encoded data removed]",
      "text/plain": [
       "<matplotlib.figure.Figure at 0x7f7215949c50>"
      ]
     },
     "metadata": {},
     "output_type": "display_data"
    }
   ],
   "source": [
    "##2. Curve fitting on a snippet of audio\n",
    "print('\\n\\n')\n",
    "print('='*100)\n",
    "print('2. Curve fitting on a snippet of audio')\n",
    "sample_input = np.arange(len(train_X[0]))/20.0\n",
    "obs_x = train_X[0]\n",
    "obs_y = train_y[0]\n",
    "    \n",
    "#Linear model\n",
    "l_fit, l_res, l_pred = PolyModelFitting(2, 20, sample_input, obs_x)\n",
    "#Quartic model\n",
    "q_fit, q_res, q_pred  = PolyModelFitting(5, 20, sample_input, obs_x)\n",
    "plt.figure()\n",
    "plt.scatter(sample_input, obs_x, color='g', label = 'Original Data')\n",
    "plt.plot(sample_input, l_res.T, 'r', label = 'Linear Model')\n",
    "plt.plot(sample_input, q_res.T, 'b', label = 'Quartic Model')\n",
    "plt.plot(1.0, l_pred, 'r*', label = 'Linear Prediction')\n",
    "plt.plot(1.0, q_pred, 'b*', label = 'Quartic Prediction')\n",
    "plt.plot(1.0, obs_y, 'k.', label='Target')\n",
    "plt.title('Fitting Result')\n",
    "plt.legend()\n",
    "plt.show()"
   ]
  },
  {
   "cell_type": "markdown",
   "metadata": {},
   "source": [
    "# Q2b "
   ]
  },
  {
   "cell_type": "markdown",
   "metadata": {},
   "source": [
    "After observing the behavior of some observations as the one in the previous example, we can note that the nature of the data is not linear. If we take only the two most recent observations and fit a linear model, we are making a very local approximation so it's highly likely that the model perform better (at least, in training set) in contrast with a model of higher contexts, where given the non linear nature of the data, it's expected that a linear model is not going to perform well."
   ]
  },
  {
   "cell_type": "markdown",
   "metadata": {},
   "source": [
    "# Q2c"
   ]
  },
  {
   "cell_type": "markdown",
   "metadata": {},
   "source": [
    "Just by some visual guessing, it seems that a context length of $C=20$ and a $K=4$ could perform well. Given a large enough context length, we can make a enough good 4th order polynomial approximation that predicts well on unseen data. We would need to choose $K$ somehow objectively (by cross-validation, for example) but intuition suggest that lower values of $K$ such as $K=1$ or $K=2$ would underfit unseed data and greather values such as $K=5$ would overfit unseen data."
   ]
  },
  {
   "cell_type": "markdown",
   "metadata": {},
   "source": [
    "# Q3a"
   ]
  },
  {
   "cell_type": "markdown",
   "metadata": {},
   "source": [
    "The model's prediction for the next time step is given by $f(t=1) = \\mathbf{w}^{T} \\mathbf{\\Phi}(t=1)$ "
   ]
  },
  {
   "cell_type": "markdown",
   "metadata": {},
   "source": [
    "Now, we know that the least squares closed-form solution for $\\mathbf{w}$ is given by\n",
    "$\\mathbf{w} = \\left[ \\mathbf{\\Phi}^{T} \\mathbf{\\Phi} \\right]^{-1} \\mathbf{\\Phi}^{T} \\mathbf{x}$, where we can define a matrix $\\mathbf{A}$ to be $ \\mathbf{A} = \\left[ \\mathbf{\\Phi}^{T} \\mathbf{\\Phi} \\right]^{-1} \\mathbf{\\Phi}^{T}$"
   ]
  },
  {
   "cell_type": "markdown",
   "metadata": {},
   "source": [
    "Therefore, substituting $\\mathbf{w}$ in the expression for $f(t=1)$ gives:\n",
    "\n",
    "$f(t=1) = \\mathbf{x}^{T} \\mathbf{A}^{T} \\mathbf{\\Phi}(t=1)$ and since $\\mathbf{\\Phi}(t=1) = \\mathbf{e}$ where $\\mathbf{e}$ is the vector of ones of length $K$, we finally get:\n",
    "\n",
    "$f(t=1) = \\mathbf{x}^{T} \\mathbf{v}$ where we have defined the vector $\\mathbf{v} = \\mathbf{A}^{T}\\mathbf{e}$"
   ]
  },
  {
   "cell_type": "markdown",
   "metadata": {},
   "source": [
    "# Q3b"
   ]
  },
  {
   "cell_type": "code",
   "execution_count": 5,
   "metadata": {},
   "outputs": [
    {
     "name": "stdout",
     "output_type": "stream",
     "text": [
      "====================================================================================================\n",
      "3. Choosing a polynomial predictor based on performance\n",
      "\n",
      "<Compare two results from Q2 and Q3>\n",
      "(C,K) =  20 2 / Q2 result :  [ 0.10462052] / Q3 result :  0.104620521947\n",
      "(C,K) =  20 5 / Q2 result :  [ 0.14920999] / Q3 result :  0.149209989974\n"
     ]
    }
   ],
   "source": [
    "##3. Choosing a polynomial predictor based on performance\n",
    "print('='*100)\n",
    "print('3. Choosing a polynomial predictor based on performance')\n",
    "C=20\n",
    "K=2\n",
    "vector_K1 = make_vv(C,K)\n",
    "print('\\n<Compare two results from Q2 and Q3>')\n",
    "print('(C,K) = ', C, K, '/ Q2 result : ', l_pred, '/ Q3 result : ', vector_K1.dot(obs_x.T))\n",
    "    \n",
    "C=20\n",
    "K=5\n",
    "vector_K4 = make_vv(C,K)\n",
    "print('(C,K) = ', C, K, '/ Q2 result : ' ,q_pred, '/ Q3 result : ', vector_K4.dot(obs_x.T))"
   ]
  },
  {
   "cell_type": "markdown",
   "metadata": {},
   "source": [
    "# Q3c"
   ]
  },
  {
   "cell_type": "code",
   "execution_count": 6,
   "metadata": {},
   "outputs": [
    {
     "name": "stdout",
     "output_type": "stream",
     "text": [
      "\n",
      "<Finding the most optimal C and K on three datasets>\n",
      "\n",
      "C&K making the lowest err on the train set :  2.0 2.0\n",
      "Train Set Err :  1.34753272438e-05\n",
      "\n",
      "C&K making the lowest err on the validation set :  2.0 2.0\n",
      "Valid Set Err :  1.34753272438e-05\n",
      "\n",
      "C&K making the lowest err on the test set :  2.0 2.0\n",
      "Test Set Err :  1.34753272438e-05\n"
     ]
    }
   ],
   "source": [
    "#Setting K, C gives the smallest square error\n",
    "print('\\n<Finding the most optimal C and K on three datasets>')\n",
    "res_train = []\n",
    "res_val = []\n",
    "res_test = []\n",
    "\n",
    "for C in range(2,21):\n",
    "    a=[]\n",
    "    b=[]\n",
    "    c=[]\n",
    "    for K in range(2,10):\n",
    "        vector = make_vv(C,K)\n",
    "        a.append(mean_squared_error(train_y, vector.dot(train_X[:,20-C:20].T)))\n",
    "        b.append(mean_squared_error(valid_y, vector.dot(valid_X[:,20-C:20].T)))\n",
    "        c.append(mean_squared_error(test_y, vector.dot(test_X[:,20-C:20].T)))\n",
    "    res_train.append(a)\n",
    "    res_val.append(b)\n",
    "    res_test.append(c)\n",
    "\n",
    "    \n",
    "#Train Error\n",
    "res_train = np.array(res_train)\n",
    "arg_min  = res_train.argmin()\n",
    "ravel = res_train.ravel()[res_train.argmin()]\n",
    "div_m = divmod(arg_min, ravel)\n",
    "print('\\nC&K making the lowest err on the train set : ',div_m[0]+2, div_m[1]+2)\n",
    "print('Train Set Err : ', res_train[int(div_m[0]),int(div_m[1])])\n",
    "    \n",
    "#Validation Error\n",
    "res_val = np.array(res_val)\n",
    "arg_min  = res_val.argmin()\n",
    "ravel = res_val.ravel()[arg_min]\n",
    "div_m = divmod(arg_min, ravel)\n",
    "print('\\nC&K making the lowest err on the validation set : ',div_m[0]+2, div_m[1]+2)\n",
    "print('Valid Set Err : ', res_train[int(div_m[0]),int(div_m[1])])    \n",
    "    \n",
    "#Test Error \n",
    "res_test = np.array(res_test)\n",
    "arg_min  = res_test.argmin()\n",
    "ravel = res_test.ravel()[arg_min]\n",
    "print('\\nC&K making the lowest err on the test set : ',div_m[0]+2, div_m[1]+2)\n",
    "print('Test Set Err : ' ,res_train[int(div_m[0]),int(div_m[1])])"
   ]
  },
  {
   "cell_type": "markdown",
   "metadata": {},
   "source": [
    "# Q4a"
   ]
  },
  {
   "cell_type": "code",
   "execution_count": 7,
   "metadata": {},
   "outputs": [
    {
     "name": "stdout",
     "output_type": "stream",
     "text": [
      "\n",
      "\n",
      "\n",
      "====================================================================================================\n",
      "4. Fitting linear predictors across many snippets\n",
      " \n",
      "C making the lowest mean square err on the training set and the err:  20 7.8382116826e-06\n",
      "C making the lowest mean square err on the validation set and the err:  20 7.41560740458e-06\n",
      "C making the lowest mean square err on the test set and the err:  20 7.434487318e-06\n"
     ]
    }
   ],
   "source": [
    "## 4. Fitting linear predictors across many snippets\n",
    "print('\\n\\n')\n",
    "print('='*100)\n",
    "print('4. Fitting linear predictors across many snippets')\n",
    "linear_train_err = []\n",
    "linear_valid_err = []\n",
    "linear_test_err = []\n",
    "    \n",
    "for C in range(21):\n",
    "    train_pred = LinearPredictor(train_y, train_X, C)\n",
    "    linear_train_err.append(linearprediction_squared_error(train_y, train_pred.reshape(-1,1), train_X[:, 19-C:20].T)) \n",
    "    valid_pred = LinearPredictor(valid_y, valid_X, C)\n",
    "    linear_valid_err.append(linearprediction_squared_error(valid_y, valid_pred.reshape(-1,1), valid_X[:, 19-C:20].T))\n",
    "    test_pred = LinearPredictor(test_y, test_X, C)\n",
    "    linear_test_err.append(linearprediction_squared_error(test_y, test_pred.reshape(-1,1), test_X[:, 19-C:20].T))\n",
    "    \n",
    "train_C = np.array(linear_train_err).argmin()+1\n",
    "valid_C = np.array(linear_valid_err).argmin()+1\n",
    "test_C = np.array(linear_test_err).argmin()+1\n",
    "    \n",
    "print(' ')\n",
    "print('C making the lowest mean square err on the training set and the err: ',train_C, linear_train_err[train_C-1])\n",
    "print('C making the lowest mean square err on the validation set and the err: ',train_C, linear_valid_err[valid_C-1])\n",
    "print('C making the lowest mean square err on the test set and the err: ',test_C, linear_test_err[test_C-1])"
   ]
  },
  {
   "cell_type": "markdown",
   "metadata": {},
   "source": [
    "The context length $C=20$ is the one with lowest *MSE* on both the training and validation sets.\n",
    "As now we have a simpler linear model, the context length parameter $C$ is our only complexity parameter. As long as we increase this parameter, we are getting better results on both sets of data. It is very likely that if we had longer context lengths, eventually we would observe a decrease on the performance on validation data. Nevertheless, with the value $C=20$ it seems we are not reaching that inflexion point yet."
   ]
  },
  {
   "cell_type": "markdown",
   "metadata": {},
   "source": [
    "# Q4b"
   ]
  },
  {
   "cell_type": "code",
   "execution_count": 8,
   "metadata": {},
   "outputs": [
    {
     "name": "stdout",
     "output_type": "stream",
     "text": [
      "Test Set Error of best polynomial model:  1.34753272438e-05\n",
      "Test Set Error of best linear model:  7.434487318e-06\n"
     ]
    }
   ],
   "source": [
    "print('Test Set Error of best polynomial model: ' ,res_train[int(div_m[0]),int(div_m[1])])\n",
    "print('Test Set Error of best linear model: ' ,linear_test_err[test_C-1])"
   ]
  },
  {
   "cell_type": "markdown",
   "metadata": {},
   "source": [
    "The results obtained suggest that the standard least squares approach is better, since we are obtaining a *MSE* of magnitude $10^{-6}$ on test set, while with the polynomial approach the *MSE* es of magnitude $10^{-5}$."
   ]
  },
  {
   "cell_type": "markdown",
   "metadata": {},
   "source": [
    "# Q4c"
   ]
  },
  {
   "cell_type": "code",
   "execution_count": 9,
   "metadata": {},
   "outputs": [
    {
     "name": "stdout",
     "output_type": "stream",
     "text": [
      "\n",
      "<Plotting a histogram of the residuals on the validation data>\n"
     ]
    },
    {
     "data": {
      "image/png": "[encoded data removed]",
      "text/plain": [
       "<matplotlib.figure.Figure at 0x7f721589c630>"
      ]
     },
     "metadata": {},
     "output_type": "display_data"
    }
   ],
   "source": [
    "print('\\n<Plotting a histogram of the residuals on the validation data>')\n",
    "    \n",
    "valid_residual = Residual(valid_y, valid_X, 20)\n",
    "figure, ax = plt.subplots(2)\n",
    "ax[0].hist(valid_residual, 100, normed=1, facecolor='r', alpha=0.75, range=[-.02, .02])\n",
    "ax[0].set_ylabel('Probability')\n",
    "ax[0].set_title('Histogram of the residuals')\n",
    "ax[1].hist(data, 50, normed=1, facecolor='g', alpha=0.75, range=[-.25, .25])\n",
    "ax[1].set_title('Histogram of the amplitudes')\n",
    "figure.subplots_adjust(hspace=0.5)\n",
    "plt.show()"
   ]
  },
  {
   "cell_type": "markdown",
   "metadata": {},
   "source": [
    "Similary to the raw data plotted at the beggining, the residuals on validation set seems to follow a Normal Distribution centered around zero and a even smaller standard deviation. Since this distribution is obtained over the validation data, we can conclude that so far, our system is performing well. We are obtaining a zero residual on average with small variability."
   ]
  },
  {
   "cell_type": "markdown",
   "metadata": {},
   "source": [
    "# Q5"
   ]
  },
  {
   "cell_type": "markdown",
   "metadata": {},
   "source": [
    "Suggested incremental approaches:\n",
    "    \n",
    "* Perform $l_2$ regularization to try to avoid overfitting and improve generalization error.\n",
    "* Perform the training step with an iterative algorithm rather than with the (costly and numerical unstable) closed form solution. In fact, we can try with *SGD* so the iterations can be faster and inexpensive.\n",
    "* Try longer context lengths, $C>20$"
   ]
  },
  {
   "cell_type": "code",
   "execution_count": null,
   "metadata": {
    "collapsed": true
   },
   "outputs": [],
   "source": []
  }
 ],
 "metadata": {
  "kernelspec": {
   "display_name": "Python 3",
   "language": "python",
   "name": "python3"
  },
  "language_info": {
   "codemirror_mode": {
    "name": "ipython",
    "version": 3
   },
   "file_extension": ".py",
   "mimetype": "text/x-python",
   "name": "python",
   "nbconvert_exporter": "python",
   "pygments_lexer": "ipython3",
   "version": "3.6.2"
  }
 },
 "nbformat": 4,
 "nbformat_minor": 2
}
